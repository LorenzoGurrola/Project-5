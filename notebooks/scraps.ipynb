{
 "cells": [
  {
   "cell_type": "code",
   "execution_count": null,
   "metadata": {},
   "outputs": [],
   "source": [
    "class NeuralNetwork(nn.Module):\n",
    "    def __init__(self, h):\n",
    "        super(NeuralNetwork, self).__init__()\n",
    "        self.l1 = nn.Linear(n, h)\n",
    "        self.l2 = nn.Linear(h, 1)\n",
    "        self.loss_function = nn.BCELoss()\n",
    "    \n",
    "    def forward(self, X):\n",
    "        A1 = F.relu(self.l1(X))\n",
    "        A2 = torch.sigmoid(self.l2(A1))\n",
    "        return A2\n",
    "    \n",
    "    def calculate_loss(self, yhat, y):\n",
    "        loss = self.loss_function(yhat, y)\n",
    "        return loss\n",
    "    \n",
    "    def backward(self, loss):\n",
    "        loss.backward()"
   ]
  }
 ],
 "metadata": {
  "language_info": {
   "name": "python"
  }
 },
 "nbformat": 4,
 "nbformat_minor": 2
}
